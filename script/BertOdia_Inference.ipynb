{
  "nbformat": 4,
  "nbformat_minor": 0,
  "metadata": {
    "colab": {
      "provenance": []
    },
    "kernelspec": {
      "name": "python3",
      "display_name": "Python 3"
    },
    "language_info": {
      "name": "python"
    },
    "widgets": {
      "application/vnd.jupyter.widget-state+json": {
        "5994ee72c5434a5eac38fd9096733d61": {
          "model_module": "@jupyter-widgets/controls",
          "model_name": "HBoxModel",
          "model_module_version": "1.5.0",
          "state": {
            "_dom_classes": [],
            "_model_module": "@jupyter-widgets/controls",
            "_model_module_version": "1.5.0",
            "_model_name": "HBoxModel",
            "_view_count": null,
            "_view_module": "@jupyter-widgets/controls",
            "_view_module_version": "1.5.0",
            "_view_name": "HBoxView",
            "box_style": "",
            "children": [
              "IPY_MODEL_906a855bbed34de5928abfac37545559",
              "IPY_MODEL_ec93c8f58e7047238a61289ac5688484",
              "IPY_MODEL_dc5f8becc1fd4d33aedb0b2636226874"
            ],
            "layout": "IPY_MODEL_59c08388f0704e0ea2dc676d2d4a7bc4"
          }
        },
        "906a855bbed34de5928abfac37545559": {
          "model_module": "@jupyter-widgets/controls",
          "model_name": "HTMLModel",
          "model_module_version": "1.5.0",
          "state": {
            "_dom_classes": [],
            "_model_module": "@jupyter-widgets/controls",
            "_model_module_version": "1.5.0",
            "_model_name": "HTMLModel",
            "_view_count": null,
            "_view_module": "@jupyter-widgets/controls",
            "_view_module_version": "1.5.0",
            "_view_name": "HTMLView",
            "description": "",
            "description_tooltip": null,
            "layout": "IPY_MODEL_87e709534c4a494e899d26df0f7722a3",
            "placeholder": "​",
            "style": "IPY_MODEL_9449e612cfde467caefb11317fc1e396",
            "value": "model.safetensors: 100%"
          }
        },
        "ec93c8f58e7047238a61289ac5688484": {
          "model_module": "@jupyter-widgets/controls",
          "model_name": "FloatProgressModel",
          "model_module_version": "1.5.0",
          "state": {
            "_dom_classes": [],
            "_model_module": "@jupyter-widgets/controls",
            "_model_module_version": "1.5.0",
            "_model_name": "FloatProgressModel",
            "_view_count": null,
            "_view_module": "@jupyter-widgets/controls",
            "_view_module_version": "1.5.0",
            "_view_name": "ProgressView",
            "bar_style": "success",
            "description": "",
            "description_tooltip": null,
            "layout": "IPY_MODEL_490698cfbb1a4b0e94445cc5829751ca",
            "max": 493982048,
            "min": 0,
            "orientation": "horizontal",
            "style": "IPY_MODEL_ff68208332f541ad90fc96f83d27d262",
            "value": 493982048
          }
        },
        "dc5f8becc1fd4d33aedb0b2636226874": {
          "model_module": "@jupyter-widgets/controls",
          "model_name": "HTMLModel",
          "model_module_version": "1.5.0",
          "state": {
            "_dom_classes": [],
            "_model_module": "@jupyter-widgets/controls",
            "_model_module_version": "1.5.0",
            "_model_name": "HTMLModel",
            "_view_count": null,
            "_view_module": "@jupyter-widgets/controls",
            "_view_module_version": "1.5.0",
            "_view_name": "HTMLView",
            "description": "",
            "description_tooltip": null,
            "layout": "IPY_MODEL_16ba13a599d6454dbd73fa4d324d9ed0",
            "placeholder": "​",
            "style": "IPY_MODEL_88b274ec0d0d4531af6761379a308131",
            "value": " 494M/494M [00:07&lt;00:00, 88.5MB/s]"
          }
        },
        "59c08388f0704e0ea2dc676d2d4a7bc4": {
          "model_module": "@jupyter-widgets/base",
          "model_name": "LayoutModel",
          "model_module_version": "1.2.0",
          "state": {
            "_model_module": "@jupyter-widgets/base",
            "_model_module_version": "1.2.0",
            "_model_name": "LayoutModel",
            "_view_count": null,
            "_view_module": "@jupyter-widgets/base",
            "_view_module_version": "1.2.0",
            "_view_name": "LayoutView",
            "align_content": null,
            "align_items": null,
            "align_self": null,
            "border": null,
            "bottom": null,
            "display": null,
            "flex": null,
            "flex_flow": null,
            "grid_area": null,
            "grid_auto_columns": null,
            "grid_auto_flow": null,
            "grid_auto_rows": null,
            "grid_column": null,
            "grid_gap": null,
            "grid_row": null,
            "grid_template_areas": null,
            "grid_template_columns": null,
            "grid_template_rows": null,
            "height": null,
            "justify_content": null,
            "justify_items": null,
            "left": null,
            "margin": null,
            "max_height": null,
            "max_width": null,
            "min_height": null,
            "min_width": null,
            "object_fit": null,
            "object_position": null,
            "order": null,
            "overflow": null,
            "overflow_x": null,
            "overflow_y": null,
            "padding": null,
            "right": null,
            "top": null,
            "visibility": null,
            "width": null
          }
        },
        "87e709534c4a494e899d26df0f7722a3": {
          "model_module": "@jupyter-widgets/base",
          "model_name": "LayoutModel",
          "model_module_version": "1.2.0",
          "state": {
            "_model_module": "@jupyter-widgets/base",
            "_model_module_version": "1.2.0",
            "_model_name": "LayoutModel",
            "_view_count": null,
            "_view_module": "@jupyter-widgets/base",
            "_view_module_version": "1.2.0",
            "_view_name": "LayoutView",
            "align_content": null,
            "align_items": null,
            "align_self": null,
            "border": null,
            "bottom": null,
            "display": null,
            "flex": null,
            "flex_flow": null,
            "grid_area": null,
            "grid_auto_columns": null,
            "grid_auto_flow": null,
            "grid_auto_rows": null,
            "grid_column": null,
            "grid_gap": null,
            "grid_row": null,
            "grid_template_areas": null,
            "grid_template_columns": null,
            "grid_template_rows": null,
            "height": null,
            "justify_content": null,
            "justify_items": null,
            "left": null,
            "margin": null,
            "max_height": null,
            "max_width": null,
            "min_height": null,
            "min_width": null,
            "object_fit": null,
            "object_position": null,
            "order": null,
            "overflow": null,
            "overflow_x": null,
            "overflow_y": null,
            "padding": null,
            "right": null,
            "top": null,
            "visibility": null,
            "width": null
          }
        },
        "9449e612cfde467caefb11317fc1e396": {
          "model_module": "@jupyter-widgets/controls",
          "model_name": "DescriptionStyleModel",
          "model_module_version": "1.5.0",
          "state": {
            "_model_module": "@jupyter-widgets/controls",
            "_model_module_version": "1.5.0",
            "_model_name": "DescriptionStyleModel",
            "_view_count": null,
            "_view_module": "@jupyter-widgets/base",
            "_view_module_version": "1.2.0",
            "_view_name": "StyleView",
            "description_width": ""
          }
        },
        "490698cfbb1a4b0e94445cc5829751ca": {
          "model_module": "@jupyter-widgets/base",
          "model_name": "LayoutModel",
          "model_module_version": "1.2.0",
          "state": {
            "_model_module": "@jupyter-widgets/base",
            "_model_module_version": "1.2.0",
            "_model_name": "LayoutModel",
            "_view_count": null,
            "_view_module": "@jupyter-widgets/base",
            "_view_module_version": "1.2.0",
            "_view_name": "LayoutView",
            "align_content": null,
            "align_items": null,
            "align_self": null,
            "border": null,
            "bottom": null,
            "display": null,
            "flex": null,
            "flex_flow": null,
            "grid_area": null,
            "grid_auto_columns": null,
            "grid_auto_flow": null,
            "grid_auto_rows": null,
            "grid_column": null,
            "grid_gap": null,
            "grid_row": null,
            "grid_template_areas": null,
            "grid_template_columns": null,
            "grid_template_rows": null,
            "height": null,
            "justify_content": null,
            "justify_items": null,
            "left": null,
            "margin": null,
            "max_height": null,
            "max_width": null,
            "min_height": null,
            "min_width": null,
            "object_fit": null,
            "object_position": null,
            "order": null,
            "overflow": null,
            "overflow_x": null,
            "overflow_y": null,
            "padding": null,
            "right": null,
            "top": null,
            "visibility": null,
            "width": null
          }
        },
        "ff68208332f541ad90fc96f83d27d262": {
          "model_module": "@jupyter-widgets/controls",
          "model_name": "ProgressStyleModel",
          "model_module_version": "1.5.0",
          "state": {
            "_model_module": "@jupyter-widgets/controls",
            "_model_module_version": "1.5.0",
            "_model_name": "ProgressStyleModel",
            "_view_count": null,
            "_view_module": "@jupyter-widgets/base",
            "_view_module_version": "1.2.0",
            "_view_name": "StyleView",
            "bar_color": null,
            "description_width": ""
          }
        },
        "16ba13a599d6454dbd73fa4d324d9ed0": {
          "model_module": "@jupyter-widgets/base",
          "model_name": "LayoutModel",
          "model_module_version": "1.2.0",
          "state": {
            "_model_module": "@jupyter-widgets/base",
            "_model_module_version": "1.2.0",
            "_model_name": "LayoutModel",
            "_view_count": null,
            "_view_module": "@jupyter-widgets/base",
            "_view_module_version": "1.2.0",
            "_view_name": "LayoutView",
            "align_content": null,
            "align_items": null,
            "align_self": null,
            "border": null,
            "bottom": null,
            "display": null,
            "flex": null,
            "flex_flow": null,
            "grid_area": null,
            "grid_auto_columns": null,
            "grid_auto_flow": null,
            "grid_auto_rows": null,
            "grid_column": null,
            "grid_gap": null,
            "grid_row": null,
            "grid_template_areas": null,
            "grid_template_columns": null,
            "grid_template_rows": null,
            "height": null,
            "justify_content": null,
            "justify_items": null,
            "left": null,
            "margin": null,
            "max_height": null,
            "max_width": null,
            "min_height": null,
            "min_width": null,
            "object_fit": null,
            "object_position": null,
            "order": null,
            "overflow": null,
            "overflow_x": null,
            "overflow_y": null,
            "padding": null,
            "right": null,
            "top": null,
            "visibility": null,
            "width": null
          }
        },
        "88b274ec0d0d4531af6761379a308131": {
          "model_module": "@jupyter-widgets/controls",
          "model_name": "DescriptionStyleModel",
          "model_module_version": "1.5.0",
          "state": {
            "_model_module": "@jupyter-widgets/controls",
            "_model_module_version": "1.5.0",
            "_model_name": "DescriptionStyleModel",
            "_view_count": null,
            "_view_module": "@jupyter-widgets/base",
            "_view_module_version": "1.2.0",
            "_view_name": "StyleView",
            "description_width": ""
          }
        }
      }
    }
  },
  "cells": [
    {
      "cell_type": "markdown",
      "source": [
        "## Inference Scrip for BertOdia"
      ],
      "metadata": {
        "id": "lRP6K2HHuNLD"
      }
    },
    {
      "cell_type": "code",
      "source": [
        "# Install necessary packages\n",
        "import os\n",
        "!pip install torch\n",
        "import torch\n",
        "!rm -rf transformers\n",
        "!git clone https://github.com/huggingface/transformers\n",
        "\n",
        "!cd transformers\n",
        "!cd transformers; pip install .\n",
        "!cd ..\n",
        "!git clone https://github.com/huggingface/datasets.git\n",
        "!ls\n",
        "!cd datasets; pip install ."
      ],
      "metadata": {
        "colab": {
          "base_uri": "https://localhost:8080/"
        },
        "id": "9IdKeCatuSwn",
        "outputId": "acf69397-9117-4fc7-e318-17d377e1a452"
      },
      "execution_count": 1,
      "outputs": [
        {
          "output_type": "stream",
          "name": "stdout",
          "text": [
            "Requirement already satisfied: torch in /usr/local/lib/python3.10/dist-packages (2.2.1+cu121)\n",
            "Requirement already satisfied: filelock in /usr/local/lib/python3.10/dist-packages (from torch) (3.14.0)\n",
            "Requirement already satisfied: typing-extensions>=4.8.0 in /usr/local/lib/python3.10/dist-packages (from torch) (4.11.0)\n",
            "Requirement already satisfied: sympy in /usr/local/lib/python3.10/dist-packages (from torch) (1.12)\n",
            "Requirement already satisfied: networkx in /usr/local/lib/python3.10/dist-packages (from torch) (3.3)\n",
            "Requirement already satisfied: jinja2 in /usr/local/lib/python3.10/dist-packages (from torch) (3.1.3)\n",
            "Requirement already satisfied: fsspec in /usr/local/lib/python3.10/dist-packages (from torch) (2023.6.0)\n",
            "Collecting nvidia-cuda-nvrtc-cu12==12.1.105 (from torch)\n",
            "  Using cached nvidia_cuda_nvrtc_cu12-12.1.105-py3-none-manylinux1_x86_64.whl (23.7 MB)\n",
            "Collecting nvidia-cuda-runtime-cu12==12.1.105 (from torch)\n",
            "  Using cached nvidia_cuda_runtime_cu12-12.1.105-py3-none-manylinux1_x86_64.whl (823 kB)\n",
            "Collecting nvidia-cuda-cupti-cu12==12.1.105 (from torch)\n",
            "  Using cached nvidia_cuda_cupti_cu12-12.1.105-py3-none-manylinux1_x86_64.whl (14.1 MB)\n",
            "Collecting nvidia-cudnn-cu12==8.9.2.26 (from torch)\n",
            "  Using cached nvidia_cudnn_cu12-8.9.2.26-py3-none-manylinux1_x86_64.whl (731.7 MB)\n",
            "Collecting nvidia-cublas-cu12==12.1.3.1 (from torch)\n",
            "  Using cached nvidia_cublas_cu12-12.1.3.1-py3-none-manylinux1_x86_64.whl (410.6 MB)\n",
            "Collecting nvidia-cufft-cu12==11.0.2.54 (from torch)\n",
            "  Using cached nvidia_cufft_cu12-11.0.2.54-py3-none-manylinux1_x86_64.whl (121.6 MB)\n",
            "Collecting nvidia-curand-cu12==10.3.2.106 (from torch)\n",
            "  Using cached nvidia_curand_cu12-10.3.2.106-py3-none-manylinux1_x86_64.whl (56.5 MB)\n",
            "Collecting nvidia-cusolver-cu12==11.4.5.107 (from torch)\n",
            "  Using cached nvidia_cusolver_cu12-11.4.5.107-py3-none-manylinux1_x86_64.whl (124.2 MB)\n",
            "Collecting nvidia-cusparse-cu12==12.1.0.106 (from torch)\n",
            "  Using cached nvidia_cusparse_cu12-12.1.0.106-py3-none-manylinux1_x86_64.whl (196.0 MB)\n",
            "Collecting nvidia-nccl-cu12==2.19.3 (from torch)\n",
            "  Using cached nvidia_nccl_cu12-2.19.3-py3-none-manylinux1_x86_64.whl (166.0 MB)\n",
            "Collecting nvidia-nvtx-cu12==12.1.105 (from torch)\n",
            "  Using cached nvidia_nvtx_cu12-12.1.105-py3-none-manylinux1_x86_64.whl (99 kB)\n",
            "Requirement already satisfied: triton==2.2.0 in /usr/local/lib/python3.10/dist-packages (from torch) (2.2.0)\n",
            "Collecting nvidia-nvjitlink-cu12 (from nvidia-cusolver-cu12==11.4.5.107->torch)\n",
            "  Using cached nvidia_nvjitlink_cu12-12.4.127-py3-none-manylinux2014_x86_64.whl (21.1 MB)\n",
            "Requirement already satisfied: MarkupSafe>=2.0 in /usr/local/lib/python3.10/dist-packages (from jinja2->torch) (2.1.5)\n",
            "Requirement already satisfied: mpmath>=0.19 in /usr/local/lib/python3.10/dist-packages (from sympy->torch) (1.3.0)\n",
            "Installing collected packages: nvidia-nvtx-cu12, nvidia-nvjitlink-cu12, nvidia-nccl-cu12, nvidia-curand-cu12, nvidia-cufft-cu12, nvidia-cuda-runtime-cu12, nvidia-cuda-nvrtc-cu12, nvidia-cuda-cupti-cu12, nvidia-cublas-cu12, nvidia-cusparse-cu12, nvidia-cudnn-cu12, nvidia-cusolver-cu12\n",
            "Successfully installed nvidia-cublas-cu12-12.1.3.1 nvidia-cuda-cupti-cu12-12.1.105 nvidia-cuda-nvrtc-cu12-12.1.105 nvidia-cuda-runtime-cu12-12.1.105 nvidia-cudnn-cu12-8.9.2.26 nvidia-cufft-cu12-11.0.2.54 nvidia-curand-cu12-10.3.2.106 nvidia-cusolver-cu12-11.4.5.107 nvidia-cusparse-cu12-12.1.0.106 nvidia-nccl-cu12-2.19.3 nvidia-nvjitlink-cu12-12.4.127 nvidia-nvtx-cu12-12.1.105\n",
            "Cloning into 'transformers'...\n",
            "remote: Enumerating objects: 204100, done.\u001b[K\n",
            "remote: Counting objects: 100% (1922/1922), done.\u001b[K\n",
            "remote: Compressing objects: 100% (728/728), done.\u001b[K\n",
            "remote: Total 204100 (delta 1255), reused 1639 (delta 1074), pack-reused 202178\u001b[K\n",
            "Receiving objects: 100% (204100/204100), 214.76 MiB | 22.83 MiB/s, done.\n",
            "Resolving deltas: 100% (146133/146133), done.\n",
            "Processing /content/transformers\n",
            "  Installing build dependencies ... \u001b[?25l\u001b[?25hdone\n",
            "  Getting requirements to build wheel ... \u001b[?25l\u001b[?25hdone\n",
            "  Preparing metadata (pyproject.toml) ... \u001b[?25l\u001b[?25hdone\n",
            "Requirement already satisfied: filelock in /usr/local/lib/python3.10/dist-packages (from transformers==4.41.0.dev0) (3.14.0)\n",
            "Requirement already satisfied: huggingface-hub<1.0,>=0.19.3 in /usr/local/lib/python3.10/dist-packages (from transformers==4.41.0.dev0) (0.20.3)\n",
            "Requirement already satisfied: numpy>=1.17 in /usr/local/lib/python3.10/dist-packages (from transformers==4.41.0.dev0) (1.25.2)\n",
            "Requirement already satisfied: packaging>=20.0 in /usr/local/lib/python3.10/dist-packages (from transformers==4.41.0.dev0) (24.0)\n",
            "Requirement already satisfied: pyyaml>=5.1 in /usr/local/lib/python3.10/dist-packages (from transformers==4.41.0.dev0) (6.0.1)\n",
            "Requirement already satisfied: regex!=2019.12.17 in /usr/local/lib/python3.10/dist-packages (from transformers==4.41.0.dev0) (2023.12.25)\n",
            "Requirement already satisfied: requests in /usr/local/lib/python3.10/dist-packages (from transformers==4.41.0.dev0) (2.31.0)\n",
            "Requirement already satisfied: tokenizers<0.20,>=0.19 in /usr/local/lib/python3.10/dist-packages (from transformers==4.41.0.dev0) (0.19.1)\n",
            "Requirement already satisfied: safetensors>=0.4.1 in /usr/local/lib/python3.10/dist-packages (from transformers==4.41.0.dev0) (0.4.3)\n",
            "Requirement already satisfied: tqdm>=4.27 in /usr/local/lib/python3.10/dist-packages (from transformers==4.41.0.dev0) (4.66.2)\n",
            "Requirement already satisfied: fsspec>=2023.5.0 in /usr/local/lib/python3.10/dist-packages (from huggingface-hub<1.0,>=0.19.3->transformers==4.41.0.dev0) (2023.6.0)\n",
            "Requirement already satisfied: typing-extensions>=3.7.4.3 in /usr/local/lib/python3.10/dist-packages (from huggingface-hub<1.0,>=0.19.3->transformers==4.41.0.dev0) (4.11.0)\n",
            "Requirement already satisfied: charset-normalizer<4,>=2 in /usr/local/lib/python3.10/dist-packages (from requests->transformers==4.41.0.dev0) (3.3.2)\n",
            "Requirement already satisfied: idna<4,>=2.5 in /usr/local/lib/python3.10/dist-packages (from requests->transformers==4.41.0.dev0) (3.7)\n",
            "Requirement already satisfied: urllib3<3,>=1.21.1 in /usr/local/lib/python3.10/dist-packages (from requests->transformers==4.41.0.dev0) (2.0.7)\n",
            "Requirement already satisfied: certifi>=2017.4.17 in /usr/local/lib/python3.10/dist-packages (from requests->transformers==4.41.0.dev0) (2024.2.2)\n",
            "Building wheels for collected packages: transformers\n",
            "  Building wheel for transformers (pyproject.toml) ... \u001b[?25l\u001b[?25hdone\n",
            "  Created wheel for transformers: filename=transformers-4.41.0.dev0-py3-none-any.whl size=9045382 sha256=b6f62787a1fb719b0426d3577f7534ee975bdaf3e05252d841db2ebccf152b98\n",
            "  Stored in directory: /tmp/pip-ephem-wheel-cache-k5t68tmu/wheels/7c/35/80/e946b22a081210c6642e607ed65b2a5b9a4d9259695ee2caf5\n",
            "Successfully built transformers\n",
            "Installing collected packages: transformers\n",
            "  Attempting uninstall: transformers\n",
            "    Found existing installation: transformers 4.40.1\n",
            "    Uninstalling transformers-4.40.1:\n",
            "      Successfully uninstalled transformers-4.40.1\n",
            "Successfully installed transformers-4.41.0.dev0\n",
            "Cloning into 'datasets'...\n",
            "remote: Enumerating objects: 64836, done.\u001b[K\n",
            "remote: Counting objects: 100% (596/596), done.\u001b[K\n",
            "remote: Compressing objects: 100% (330/330), done.\u001b[K\n",
            "remote: Total 64836 (delta 328), reused 437 (delta 216), pack-reused 64240\u001b[K\n",
            "Receiving objects: 100% (64836/64836), 86.18 MiB | 21.99 MiB/s, done.\n",
            "Resolving deltas: 100% (31332/31332), done.\n",
            "datasets  sample_data  transformers\n",
            "Processing /content/datasets\n",
            "  Installing build dependencies ... \u001b[?25l\u001b[?25hdone\n",
            "  Getting requirements to build wheel ... \u001b[?25l\u001b[?25hdone\n",
            "  Preparing metadata (pyproject.toml) ... \u001b[?25l\u001b[?25hdone\n",
            "Requirement already satisfied: filelock in /usr/local/lib/python3.10/dist-packages (from datasets==2.19.1.dev0) (3.14.0)\n",
            "Requirement already satisfied: numpy>=1.17 in /usr/local/lib/python3.10/dist-packages (from datasets==2.19.1.dev0) (1.25.2)\n",
            "Requirement already satisfied: pyarrow>=12.0.0 in /usr/local/lib/python3.10/dist-packages (from datasets==2.19.1.dev0) (14.0.2)\n",
            "Requirement already satisfied: pyarrow-hotfix in /usr/local/lib/python3.10/dist-packages (from datasets==2.19.1.dev0) (0.6)\n",
            "Collecting dill<0.3.9,>=0.3.0 (from datasets==2.19.1.dev0)\n",
            "  Downloading dill-0.3.8-py3-none-any.whl (116 kB)\n",
            "\u001b[2K     \u001b[90m━━━━━━━━━━━━━━━━━━━━━━━━━━━━━━━━━━━━━━━━\u001b[0m \u001b[32m116.3/116.3 kB\u001b[0m \u001b[31m2.9 MB/s\u001b[0m eta \u001b[36m0:00:00\u001b[0m\n",
            "\u001b[?25hRequirement already satisfied: pandas in /usr/local/lib/python3.10/dist-packages (from datasets==2.19.1.dev0) (2.0.3)\n",
            "Requirement already satisfied: requests>=2.19.0 in /usr/local/lib/python3.10/dist-packages (from datasets==2.19.1.dev0) (2.31.0)\n",
            "Requirement already satisfied: tqdm>=4.62.1 in /usr/local/lib/python3.10/dist-packages (from datasets==2.19.1.dev0) (4.66.2)\n",
            "Collecting xxhash (from datasets==2.19.1.dev0)\n",
            "  Downloading xxhash-3.4.1-cp310-cp310-manylinux_2_17_x86_64.manylinux2014_x86_64.whl (194 kB)\n",
            "\u001b[2K     \u001b[90m━━━━━━━━━━━━━━━━━━━━━━━━━━━━━━━━━━━━━━━━\u001b[0m \u001b[32m194.1/194.1 kB\u001b[0m \u001b[31m14.7 MB/s\u001b[0m eta \u001b[36m0:00:00\u001b[0m\n",
            "\u001b[?25hCollecting multiprocess (from datasets==2.19.1.dev0)\n",
            "  Downloading multiprocess-0.70.16-py310-none-any.whl (134 kB)\n",
            "\u001b[2K     \u001b[90m━━━━━━━━━━━━━━━━━━━━━━━━━━━━━━━━━━━━━━━━\u001b[0m \u001b[32m134.8/134.8 kB\u001b[0m \u001b[31m15.0 MB/s\u001b[0m eta \u001b[36m0:00:00\u001b[0m\n",
            "\u001b[?25hRequirement already satisfied: fsspec[http]<=2024.3.1,>=2023.1.0 in /usr/local/lib/python3.10/dist-packages (from datasets==2.19.1.dev0) (2023.6.0)\n",
            "Requirement already satisfied: aiohttp in /usr/local/lib/python3.10/dist-packages (from datasets==2.19.1.dev0) (3.9.5)\n",
            "Collecting huggingface-hub<0.23.0,>=0.21.2 (from datasets==2.19.1.dev0)\n",
            "  Downloading huggingface_hub-0.22.2-py3-none-any.whl (388 kB)\n",
            "\u001b[2K     \u001b[90m━━━━━━━━━━━━━━━━━━━━━━━━━━━━━━━━━━━━━━━━\u001b[0m \u001b[32m388.9/388.9 kB\u001b[0m \u001b[31m33.9 MB/s\u001b[0m eta \u001b[36m0:00:00\u001b[0m\n",
            "\u001b[?25hRequirement already satisfied: packaging in /usr/local/lib/python3.10/dist-packages (from datasets==2.19.1.dev0) (24.0)\n",
            "Requirement already satisfied: pyyaml>=5.1 in /usr/local/lib/python3.10/dist-packages (from datasets==2.19.1.dev0) (6.0.1)\n",
            "Requirement already satisfied: aiosignal>=1.1.2 in /usr/local/lib/python3.10/dist-packages (from aiohttp->datasets==2.19.1.dev0) (1.3.1)\n",
            "Requirement already satisfied: attrs>=17.3.0 in /usr/local/lib/python3.10/dist-packages (from aiohttp->datasets==2.19.1.dev0) (23.2.0)\n",
            "Requirement already satisfied: frozenlist>=1.1.1 in /usr/local/lib/python3.10/dist-packages (from aiohttp->datasets==2.19.1.dev0) (1.4.1)\n",
            "Requirement already satisfied: multidict<7.0,>=4.5 in /usr/local/lib/python3.10/dist-packages (from aiohttp->datasets==2.19.1.dev0) (6.0.5)\n",
            "Requirement already satisfied: yarl<2.0,>=1.0 in /usr/local/lib/python3.10/dist-packages (from aiohttp->datasets==2.19.1.dev0) (1.9.4)\n",
            "Requirement already satisfied: async-timeout<5.0,>=4.0 in /usr/local/lib/python3.10/dist-packages (from aiohttp->datasets==2.19.1.dev0) (4.0.3)\n",
            "Requirement already satisfied: typing-extensions>=3.7.4.3 in /usr/local/lib/python3.10/dist-packages (from huggingface-hub<0.23.0,>=0.21.2->datasets==2.19.1.dev0) (4.11.0)\n",
            "Requirement already satisfied: charset-normalizer<4,>=2 in /usr/local/lib/python3.10/dist-packages (from requests>=2.19.0->datasets==2.19.1.dev0) (3.3.2)\n",
            "Requirement already satisfied: idna<4,>=2.5 in /usr/local/lib/python3.10/dist-packages (from requests>=2.19.0->datasets==2.19.1.dev0) (3.7)\n",
            "Requirement already satisfied: urllib3<3,>=1.21.1 in /usr/local/lib/python3.10/dist-packages (from requests>=2.19.0->datasets==2.19.1.dev0) (2.0.7)\n",
            "Requirement already satisfied: certifi>=2017.4.17 in /usr/local/lib/python3.10/dist-packages (from requests>=2.19.0->datasets==2.19.1.dev0) (2024.2.2)\n",
            "Requirement already satisfied: python-dateutil>=2.8.2 in /usr/local/lib/python3.10/dist-packages (from pandas->datasets==2.19.1.dev0) (2.8.2)\n",
            "Requirement already satisfied: pytz>=2020.1 in /usr/local/lib/python3.10/dist-packages (from pandas->datasets==2.19.1.dev0) (2023.4)\n",
            "Requirement already satisfied: tzdata>=2022.1 in /usr/local/lib/python3.10/dist-packages (from pandas->datasets==2.19.1.dev0) (2024.1)\n",
            "Requirement already satisfied: six>=1.5 in /usr/local/lib/python3.10/dist-packages (from python-dateutil>=2.8.2->pandas->datasets==2.19.1.dev0) (1.16.0)\n",
            "Building wheels for collected packages: datasets\n",
            "  Building wheel for datasets (pyproject.toml) ... \u001b[?25l\u001b[?25hdone\n",
            "  Created wheel for datasets: filename=datasets-2.19.1.dev0-py3-none-any.whl size=517685 sha256=63af7263f6c1a30ee2c711c4a0fbea860a62ce9614aa80b824fc6cea659add6e\n",
            "  Stored in directory: /tmp/pip-ephem-wheel-cache-0asawodz/wheels/1a/38/d8/95c0a894f716f2ff85e3e34c3c096e35c82013314591780751\n",
            "Successfully built datasets\n",
            "Installing collected packages: xxhash, dill, multiprocess, huggingface-hub, datasets\n",
            "  Attempting uninstall: huggingface-hub\n",
            "    Found existing installation: huggingface-hub 0.20.3\n",
            "    Uninstalling huggingface-hub-0.20.3:\n",
            "      Successfully uninstalled huggingface-hub-0.20.3\n",
            "Successfully installed datasets-2.19.1.dev0 dill-0.3.8 huggingface-hub-0.22.2 multiprocess-0.70.16 xxhash-3.4.1\n"
          ]
        }
      ]
    },
    {
      "cell_type": "code",
      "source": [
        "# Sample test code to check the model\n",
        "from transformers import pipeline\n",
        "fill_mask = pipeline(\n",
        "    \"fill-mask\",\n",
        "    model=\"shantipriya/BertOdia-small-v1\",\n",
        "    tokenizer=\"shantipriya/BertOdia-small-v1\"\n",
        ")"
      ],
      "metadata": {
        "colab": {
          "base_uri": "https://localhost:8080/",
          "height": 49,
          "referenced_widgets": [
            "5994ee72c5434a5eac38fd9096733d61",
            "906a855bbed34de5928abfac37545559",
            "ec93c8f58e7047238a61289ac5688484",
            "dc5f8becc1fd4d33aedb0b2636226874",
            "59c08388f0704e0ea2dc676d2d4a7bc4",
            "87e709534c4a494e899d26df0f7722a3",
            "9449e612cfde467caefb11317fc1e396",
            "490698cfbb1a4b0e94445cc5829751ca",
            "ff68208332f541ad90fc96f83d27d262",
            "16ba13a599d6454dbd73fa4d324d9ed0",
            "88b274ec0d0d4531af6761379a308131"
          ]
        },
        "id": "3ZshQSV0wBOK",
        "outputId": "77df49a4-5c59-4dda-9872-073b4ca8c238"
      },
      "execution_count": 18,
      "outputs": [
        {
          "output_type": "display_data",
          "data": {
            "text/plain": [
              "model.safetensors:   0%|          | 0.00/494M [00:00<?, ?B/s]"
            ],
            "application/vnd.jupyter.widget-view+json": {
              "version_major": 2,
              "version_minor": 0,
              "model_id": "5994ee72c5434a5eac38fd9096733d61"
            }
          },
          "metadata": {}
        }
      ]
    },
    {
      "cell_type": "code",
      "source": [
        "result = fill_mask(\"ମୁଁ ବିଦ୍ୟାଳୟକୁ [MASK]\")\n",
        "print(result)"
      ],
      "metadata": {
        "colab": {
          "base_uri": "https://localhost:8080/"
        },
        "id": "_5BrrYc1wa-b",
        "outputId": "d06e162f-2e2d-42d3-f79d-9e8d20f55f9c"
      },
      "execution_count": 19,
      "outputs": [
        {
          "output_type": "stream",
          "name": "stdout",
          "text": [
            "[{'score': 0.03263865411281586, 'token': 450, 'token_str': '।', 'sequence': 'ମ ବଦୟାଳୟକ ।'}, {'score': 0.032620083540678024, 'token': 1009, 'token_str': '##କ', 'sequence': 'ମ ବଦୟାଳୟକକ'}, {'score': 0.02272961474955082, 'token': 1020, 'token_str': '##ତ', 'sequence': 'ମ ବଦୟାଳୟକତ'}, {'score': 0.018877584487199783, 'token': 1047, 'token_str': '##ଙ', 'sequence': 'ମ ବଦୟାଳୟକଙ'}, {'score': 0.014891101978719234, 'token': 18, 'token_str': ',', 'sequence': 'ମ ବଦୟାଳୟକ,'}]\n"
          ]
        }
      ]
    },
    {
      "cell_type": "code",
      "source": [
        "result = fill_mask(\"ଏହାର ଅନତି ଦୂରରେ ଗୋଟିଏ ପ୍ରାଥମିକ [MASK] ଓ ଗୋଟିଏ ଉଚ୍ଚ ପ୍ରାଥମିକ ବିଦ୍ୟାଳୟ ଅଛି।\")\n",
        "print(result)"
      ],
      "metadata": {
        "colab": {
          "base_uri": "https://localhost:8080/"
        },
        "id": "YzOi-9EMx1Le",
        "outputId": "9470a092-797e-4d6f-f5f8-f27b471e4ecc"
      },
      "execution_count": 20,
      "outputs": [
        {
          "output_type": "stream",
          "name": "stdout",
          "text": [
            "[{'score': 0.03263865411281586, 'token': 450, 'token_str': '।', 'sequence': 'ଏହାର ଅନତ ଦରରେ ଗୋଟଏ ପରାଥମକ । ଓ ଗୋଟଏ ଉଚଚ ପରାଥମକ ବଦୟାଳୟ ଅଛ ।'}, {'score': 0.032620083540678024, 'token': 1009, 'token_str': '##କ', 'sequence': 'ଏହାର ଅନତ ଦରରେ ଗୋଟଏ ପରାଥମକକ ଓ ଗୋଟଏ ଉଚଚ ପରାଥମକ ବଦୟାଳୟ ଅଛ ।'}, {'score': 0.02272961474955082, 'token': 1020, 'token_str': '##ତ', 'sequence': 'ଏହାର ଅନତ ଦରରେ ଗୋଟଏ ପରାଥମକତ ଓ ଗୋଟଏ ଉଚଚ ପରାଥମକ ବଦୟାଳୟ ଅଛ ।'}, {'score': 0.018877584487199783, 'token': 1047, 'token_str': '##ଙ', 'sequence': 'ଏହାର ଅନତ ଦରରେ ଗୋଟଏ ପରାଥମକଙ ଓ ଗୋଟଏ ଉଚଚ ପରାଥମକ ବଦୟାଳୟ ଅଛ ।'}, {'score': 0.014891101978719234, 'token': 18, 'token_str': ',', 'sequence': 'ଏହାର ଅନତ ଦରରେ ଗୋଟଏ ପରାଥମକ, ଓ ଗୋଟଏ ଉଚଚ ପରାଥମକ ବଦୟାଳୟ ଅଛ ।'}]\n"
          ]
        }
      ]
    },
    {
      "cell_type": "markdown",
      "source": [
        "## Llama Tokenizer"
      ],
      "metadata": {
        "id": "oW1flsc_PkfZ"
      }
    },
    {
      "cell_type": "code",
      "source": [
        "from transformers import LlamaTokenizer, LlamaForCausalLM\n",
        "\n",
        "odia_text = '''ସମସ୍ତ ମନୁଷ୍ୟ ଜନ୍ମକାଳରୁ ସ୍ୱାଧୀନ ଏବଂ ମର୍ଯ୍ୟାଦା ଓ ଅଧିକାରରେ ସମାନ । ସେମାନଙ୍କଠାରେ ବୁଦ୍ଧି ଓ ବିବେକ ନିହିତ ଅଛି ଏବଂ ସେମାନଙ୍କୁ ପରସ୍ପର ପ୍ରତି ଭ୍ରାତୃତ୍ୱ ମନୋଭାବରେ ବ୍ୟବହାର କରିବା ଉଚିତ୍ ।'''\n",
        "\n",
        "\n",
        "tokenizer_odia = LlamaTokenizer.from_pretrained('OdiaGenAI/odia_llama2_7B_base')\n",
        "\n",
        "def count_tokens_odia(input_text):\n",
        "    # Tokenize input text\n",
        "    tokens = tokenizer_odia.tokenize(input_text)\n",
        "    # Count the number of tokens\n",
        "    print(tokens)\n",
        "    num_tokens = len(tokens)\n",
        "    return num_tokens\n",
        "\n",
        "num_tokens_odia_text_gemma = count_tokens_odia(odia_text)\n",
        "print(num_tokens_odia_text_gemma)\n",
        "#num_tokens_odia_text_mistral = count_tokens_mistral(odia_text)\n",
        "#num_tokens_odia_text = count_tokens_odia(odia_text)\n",
        "#num_tokens_odia_text_gemma,num_tokens_odia_text_mistral, num_tokens_odia_text, len(odia_text)"
      ],
      "metadata": {
        "colab": {
          "base_uri": "https://localhost:8080/"
        },
        "id": "xcpzQvcsNfCz",
        "outputId": "1bea57a4-be35-485d-dc70-b944830e2bab"
      },
      "execution_count": 22,
      "outputs": [
        {
          "output_type": "stream",
          "name": "stdout",
          "text": [
            "['▁', '<0xE0>', '<0xAC>', '<0xB8>', '<0xE0>', '<0xAC>', '<0xAE>', '<0xE0>', '<0xAC>', '<0xB8>', '<0xE0>', '<0xAD>', '<0x8D>', '<0xE0>', '<0xAC>', '<0xA4>', '▁', '<0xE0>', '<0xAC>', '<0xAE>', '<0xE0>', '<0xAC>', '<0xA8>', '<0xE0>', '<0xAD>', '<0x81>', '<0xE0>', '<0xAC>', '<0xB7>', '<0xE0>', '<0xAD>', '<0x8D>', '<0xE0>', '<0xAD>', '<0x9F>', '▁', '<0xE0>', '<0xAC>', '<0x9C>', '<0xE0>', '<0xAC>', '<0xA8>', '<0xE0>', '<0xAD>', '<0x8D>', '<0xE0>', '<0xAC>', '<0xAE>', '<0xE0>', '<0xAC>', '<0x95>', '<0xE0>', '<0xAC>', '<0xBE>', '<0xE0>', '<0xAC>', '<0xB3>', '<0xE0>', '<0xAC>', '<0xB0>', '<0xE0>', '<0xAD>', '<0x81>', '▁', '<0xE0>', '<0xAC>', '<0xB8>', '<0xE0>', '<0xAD>', '<0x8D>', '<0xE0>', '<0xAD>', '<0xB1>', '<0xE0>', '<0xAC>', '<0xBE>', '<0xE0>', '<0xAC>', '<0xA7>', '<0xE0>', '<0xAD>', '<0x80>', '<0xE0>', '<0xAC>', '<0xA8>', '▁', '<0xE0>', '<0xAC>', '<0x8F>', '<0xE0>', '<0xAC>', '<0xAC>', '<0xE0>', '<0xAC>', '<0x82>', '▁', '<0xE0>', '<0xAC>', '<0xAE>', '<0xE0>', '<0xAC>', '<0xB0>', '<0xE0>', '<0xAD>', '<0x8D>', '<0xE0>', '<0xAC>', '<0xAF>', '<0xE0>', '<0xAD>', '<0x8D>', '<0xE0>', '<0xAD>', '<0x9F>', '<0xE0>', '<0xAC>', '<0xBE>', '<0xE0>', '<0xAC>', '<0xA6>', '<0xE0>', '<0xAC>', '<0xBE>', '▁', '<0xE0>', '<0xAC>', '<0x93>', '▁', '<0xE0>', '<0xAC>', '<0x85>', '<0xE0>', '<0xAC>', '<0xA7>', '<0xE0>', '<0xAC>', '<0xBF>', '<0xE0>', '<0xAC>', '<0x95>', '<0xE0>', '<0xAC>', '<0xBE>', '<0xE0>', '<0xAC>', '<0xB0>', '<0xE0>', '<0xAC>', '<0xB0>', '<0xE0>', '<0xAD>', '<0x87>', '▁', '<0xE0>', '<0xAC>', '<0xB8>', '<0xE0>', '<0xAC>', '<0xAE>', '<0xE0>', '<0xAC>', '<0xBE>', '<0xE0>', '<0xAC>', '<0xA8>', '▁', '।', '▁', '<0xE0>', '<0xAC>', '<0xB8>', '<0xE0>', '<0xAD>', '<0x87>', '<0xE0>', '<0xAC>', '<0xAE>', '<0xE0>', '<0xAC>', '<0xBE>', '<0xE0>', '<0xAC>', '<0xA8>', '<0xE0>', '<0xAC>', '<0x99>', '<0xE0>', '<0xAD>', '<0x8D>', '<0xE0>', '<0xAC>', '<0x95>', '<0xE0>', '<0xAC>', '<0xA0>', '<0xE0>', '<0xAC>', '<0xBE>', '<0xE0>', '<0xAC>', '<0xB0>', '<0xE0>', '<0xAD>', '<0x87>', '▁', '<0xE0>', '<0xAC>', '<0xAC>', '<0xE0>', '<0xAD>', '<0x81>', '<0xE0>', '<0xAC>', '<0xA6>', '<0xE0>', '<0xAD>', '<0x8D>', '<0xE0>', '<0xAC>', '<0xA7>', '<0xE0>', '<0xAC>', '<0xBF>', '▁', '<0xE0>', '<0xAC>', '<0x93>', '▁', '<0xE0>', '<0xAC>', '<0xAC>', '<0xE0>', '<0xAC>', '<0xBF>', '<0xE0>', '<0xAC>', '<0xAC>', '<0xE0>', '<0xAD>', '<0x87>', '<0xE0>', '<0xAC>', '<0x95>', '▁', '<0xE0>', '<0xAC>', '<0xA8>', '<0xE0>', '<0xAC>', '<0xBF>', '<0xE0>', '<0xAC>', '<0xB9>', '<0xE0>', '<0xAC>', '<0xBF>', '<0xE0>', '<0xAC>', '<0xA4>', '▁', '<0xE0>', '<0xAC>', '<0x85>', '<0xE0>', '<0xAC>', '<0x9B>', '<0xE0>', '<0xAC>', '<0xBF>', '▁', '<0xE0>', '<0xAC>', '<0x8F>', '<0xE0>', '<0xAC>', '<0xAC>', '<0xE0>', '<0xAC>', '<0x82>', '▁', '<0xE0>', '<0xAC>', '<0xB8>', '<0xE0>', '<0xAD>', '<0x87>', '<0xE0>', '<0xAC>', '<0xAE>', '<0xE0>', '<0xAC>', '<0xBE>', '<0xE0>', '<0xAC>', '<0xA8>', '<0xE0>', '<0xAC>', '<0x99>', '<0xE0>', '<0xAD>', '<0x8D>', '<0xE0>', '<0xAC>', '<0x95>', '<0xE0>', '<0xAD>', '<0x81>', '▁', '<0xE0>', '<0xAC>', '<0xAA>', '<0xE0>', '<0xAC>', '<0xB0>', '<0xE0>', '<0xAC>', '<0xB8>', '<0xE0>', '<0xAD>', '<0x8D>', '<0xE0>', '<0xAC>', '<0xAA>', '<0xE0>', '<0xAC>', '<0xB0>', '▁', '<0xE0>', '<0xAC>', '<0xAA>', '<0xE0>', '<0xAD>', '<0x8D>', '<0xE0>', '<0xAC>', '<0xB0>', '<0xE0>', '<0xAC>', '<0xA4>', '<0xE0>', '<0xAC>', '<0xBF>', '▁', '<0xE0>', '<0xAC>', '<0xAD>', '<0xE0>', '<0xAD>', '<0x8D>', '<0xE0>', '<0xAC>', '<0xB0>', '<0xE0>', '<0xAC>', '<0xBE>', '<0xE0>', '<0xAC>', '<0xA4>', '<0xE0>', '<0xAD>', '<0x83>', '<0xE0>', '<0xAC>', '<0xA4>', '<0xE0>', '<0xAD>', '<0x8D>', '<0xE0>', '<0xAD>', '<0xB1>', '▁', '<0xE0>', '<0xAC>', '<0xAE>', '<0xE0>', '<0xAC>', '<0xA8>', '<0xE0>', '<0xAD>', '<0x8B>', '<0xE0>', '<0xAC>', '<0xAD>', '<0xE0>', '<0xAC>', '<0xBE>', '<0xE0>', '<0xAC>', '<0xAC>', '<0xE0>', '<0xAC>', '<0xB0>', '<0xE0>', '<0xAD>', '<0x87>', '▁', '<0xE0>', '<0xAC>', '<0xAC>', '<0xE0>', '<0xAD>', '<0x8D>', '<0xE0>', '<0xAD>', '<0x9F>', '<0xE0>', '<0xAC>', '<0xAC>', '<0xE0>', '<0xAC>', '<0xB9>', '<0xE0>', '<0xAC>', '<0xBE>', '<0xE0>', '<0xAC>', '<0xB0>', '▁', '<0xE0>', '<0xAC>', '<0x95>', '<0xE0>', '<0xAC>', '<0xB0>', '<0xE0>', '<0xAC>', '<0xBF>', '<0xE0>', '<0xAC>', '<0xAC>', '<0xE0>', '<0xAC>', '<0xBE>', '▁', '<0xE0>', '<0xAC>', '<0x89>', '<0xE0>', '<0xAC>', '<0x9A>', '<0xE0>', '<0xAC>', '<0xBF>', '<0xE0>', '<0xAC>', '<0xA4>', '<0xE0>', '<0xAD>', '<0x8D>', '▁', '।']\n",
            "451\n"
          ]
        }
      ]
    },
    {
      "cell_type": "markdown",
      "source": [
        "## BertOdia Tokenizer"
      ],
      "metadata": {
        "id": "yCb6-q2FPoLG"
      }
    },
    {
      "cell_type": "code",
      "source": [
        "from transformers import AutoModelForSeq2SeqLM, AutoTokenizer\n",
        "\n",
        "odia_text = '''ସମସ୍ତ ମନୁଷ୍ୟ ଜନ୍ମକାଳରୁ ସ୍ୱାଧୀନ ଏବଂ ମର୍ଯ୍ୟାଦା ଓ ଅଧିକାରରେ ସମାନ । ସେମାନଙ୍କଠାରେ ବୁଦ୍ଧି ଓ ବିବେକ ନିହିତ ଅଛି ଏବଂ ସେମାନଙ୍କୁ ପରସ୍ପର ପ୍ରତି ଭ୍ରାତୃତ୍ୱ ମନୋଭାବରେ ବ୍ୟବହାର କରିବା ଉଚିତ୍ ।'''\n",
        "\n",
        "\n",
        "tokenizer_odia = AutoTokenizer.from_pretrained('shantipriya/BertOdia-small-v1')\n",
        "\n",
        "def count_tokens_odia(input_text):\n",
        "    # Tokenize input text\n",
        "    tokens = tokenizer_odia.tokenize(input_text)\n",
        "    print(tokens)\n",
        "    # Count the number of tokens\n",
        "    num_tokens = len(tokens)\n",
        "    return num_tokens\n",
        "\n",
        "num_tokens_odia_text_gemma = count_tokens_odia(odia_text)\n",
        "print(num_tokens_odia_text_gemma)"
      ],
      "metadata": {
        "colab": {
          "base_uri": "https://localhost:8080/"
        },
        "id": "nk6kNLt6Prhl",
        "outputId": "c1b630e6-d5b8-4f88-8f6a-0da672c6058e"
      },
      "execution_count": 23,
      "outputs": [
        {
          "output_type": "stream",
          "name": "stdout",
          "text": [
            "['ସମସ', '##ତ', 'ମନ', '##ଷ', '##ୟ', 'ଜନମ', '##କାଳର', 'ସ', '##ୱା', '##ଧୀନ', 'ଏବଂ', 'ମର', '##ଯୟ', '##ାଦ', '##ା', 'ଓ', 'ଅଧକ', '##ାରରେ', 'ସମାନ', '।', 'ସେମାନ', '##ଙ', '##କ', '##ଠାରେ', 'ବଦ', '##ଧ', 'ଓ', 'ବବ', '##େକ', 'ନହ', '##ତ', 'ଅଛ', 'ଏବଂ', 'ସେମାନ', '##ଙ', '##କ', 'ପରସ', '##ପର', 'ପର', '##ତ', 'ଭରା', '##ତ', '##ତ', '##ୱ', 'ମନୋଭାବ', '##ରେ', 'ବୟ', '##ବହାର', 'କରବା', 'ଉଚ', '##ତ', '।']\n",
            "52\n"
          ]
        }
      ]
    },
    {
      "cell_type": "markdown",
      "source": [
        "## IndicBert"
      ],
      "metadata": {
        "id": "NgF5M7iDSyWZ"
      }
    },
    {
      "cell_type": "code",
      "source": [
        "from transformers import AutoModelForSeq2SeqLM, AutoTokenizer\n",
        "\n",
        "odia_text = '''ସମସ୍ତ ମନୁଷ୍ୟ ଜନ୍ମକାଳରୁ ସ୍ୱାଧୀନ ଏବଂ ମର୍ଯ୍ୟାଦା ଓ ଅଧିକାରରେ ସମାନ । ସେମାନଙ୍କଠାରେ ବୁଦ୍ଧି ଓ ବିବେକ ନିହିତ ଅଛି ଏବଂ ସେମାନଙ୍କୁ ପରସ୍ପର ପ୍ରତି ଭ୍ରାତୃତ୍ୱ ମନୋଭାବରେ ବ୍ୟବହାର କରିବା ଉଚିତ୍ ।'''\n",
        "\n",
        "tokenizer_odia = AutoTokenizer.from_pretrained('ai4bharat/indic-bert')\n",
        "\n",
        "def count_tokens_odia(input_text):\n",
        "    # Tokenize input text\n",
        "    tokens = tokenizer_odia.tokenize(input_text)\n",
        "    print(tokens)\n",
        "    # Count the number of tokens\n",
        "    num_tokens = len(tokens)\n",
        "    return num_tokens\n",
        "\n",
        "num_tokens_odia_text_gemma = count_tokens_odia(odia_text)\n",
        "print(num_tokens_odia_text_gemma)"
      ],
      "metadata": {
        "colab": {
          "base_uri": "https://localhost:8080/"
        },
        "id": "4VVuRsg9S0vf",
        "outputId": "b8da5d11-2fb8-47fe-c0e0-72101f3e1f9e"
      },
      "execution_count": 24,
      "outputs": [
        {
          "output_type": "stream",
          "name": "stdout",
          "text": [
            "['▁ସମ', 'ସ', 'ତ', '▁ମନ', 'ଷ', 'ୟ', '▁ଜନ', 'ମକ', 'ଳର', '▁ସ', 'ୱ', 'ଧନ', '▁ଏବ', '▁ମର', 'ଯ', 'ୟ', 'ଦ', '▁ଓ', '▁ଅଧ', 'କର', 'ର', '▁ସମ', 'ନ', '▁।', '▁ସମ', 'ନ', 'ଙ', 'କଠ', 'ର', '▁ବଦ', 'ଧ', '▁ଓ', '▁ବ', 'ବ', 'କ', '▁ନ', 'ହତ', '▁ଅ', 'ଛ', '▁ଏବ', '▁ସମ', 'ନ', 'ଙ', 'କ', '▁ପର', 'ସପ', 'ର', '▁ପର', 'ତ', '▁ଭର', 'ତ', 'ତ', 'ୱ', '▁ମନ', 'ଭ', 'ବର', '▁', 'ବୟ', 'ବହ', 'ର', '▁କର', 'ବ', '▁ଉ', 'ଚ', 'ତ', '▁।']\n",
            "66\n"
          ]
        }
      ]
    }
  ]
}